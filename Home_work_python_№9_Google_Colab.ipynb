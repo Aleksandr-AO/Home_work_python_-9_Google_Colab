{
  "nbformat": 4,
  "nbformat_minor": 0,
  "metadata": {
    "colab": {
      "provenance": [],
      "authorship_tag": "ABX9TyMO++Nq9QE5VfxJD/XpM/eG",
      "include_colab_link": true
    },
    "kernelspec": {
      "name": "python3",
      "display_name": "Python 3"
    },
    "language_info": {
      "name": "python"
    }
  },
  "cells": [
    {
      "cell_type": "markdown",
      "metadata": {
        "id": "view-in-github",
        "colab_type": "text"
      },
      "source": [
        "<a href=\"https://colab.research.google.com/github/Aleksandr-AO/Home_work_python_-9_Google_Colab/blob/main/Home_work_python_%E2%84%969_Google_Colab.ipynb\" target=\"_parent\"><img src=\"https://colab.research.google.com/assets/colab-badge.svg\" alt=\"Open In Colab\"/></a>"
      ]
    },
    {
      "cell_type": "code",
      "execution_count": 31,
      "metadata": {
        "id": "49I3JmBBLwhe"
      },
      "outputs": [],
      "source": [
        "import pandas as pd"
      ]
    },
    {
      "cell_type": "code",
      "source": [
        "df = pd.read_csv('sample_data/california_housing_train.csv')"
      ],
      "metadata": {
        "id": "hrbln7GAxRDB"
      },
      "execution_count": 32,
      "outputs": []
    },
    {
      "cell_type": "markdown",
      "source": [
        "# Задача 40: \n",
        "## Работать с файлом california_housing_train.csv, который находится в папке sample_data. Определить среднюю стоимость дома, где кол-во людей от 0 до 500 (population)\n"
      ],
      "metadata": {
        "id": "04m-eAKq5das"
      }
    },
    {
      "cell_type": "code",
      "source": [
        "df[ \n",
        "    (df['population'] > 0) &\n",
        "    (df['population'] < 501)\n",
        "  ].median_house_value.mean()"
      ],
      "metadata": {
        "id": "A0CQrbzFIjZY",
        "colab": {
          "base_uri": "https://localhost:8080/"
        },
        "outputId": "85b3e1bf-4f0d-42d3-9824-f15b262e9f8b"
      },
      "execution_count": 39,
      "outputs": [
        {
          "output_type": "execute_result",
          "data": {
            "text/plain": [
              "206799.95140186916"
            ]
          },
          "metadata": {},
          "execution_count": 39
        }
      ]
    },
    {
      "cell_type": "markdown",
      "source": [
        "#Задача 42: \n",
        "##Узнать какая максимальная households в зоне минимального значения population"
      ],
      "metadata": {
        "id": "9l4i1tJq898w"
      }
    },
    {
      "cell_type": "code",
      "source": [
        "df.min()"
      ],
      "metadata": {
        "colab": {
          "base_uri": "https://localhost:8080/"
        },
        "id": "uxoW_1kv88wg",
        "outputId": "b3be07a6-1e93-4087-beac-cc74078413d3"
      },
      "execution_count": 27,
      "outputs": [
        {
          "output_type": "execute_result",
          "data": {
            "text/plain": [
              "longitude              -124.3500\n",
              "latitude                 32.5400\n",
              "housing_median_age        1.0000\n",
              "total_rooms               2.0000\n",
              "total_bedrooms            1.0000\n",
              "population                3.0000\n",
              "households                1.0000\n",
              "median_income             0.4999\n",
              "median_house_value    14999.0000\n",
              "dtype: float64"
            ]
          },
          "metadata": {},
          "execution_count": 27
        }
      ]
    },
    {
      "cell_type": "code",
      "source": [
        "df[\n",
        "    df['population'] == 3.0000\n",
        "  ].households.max()"
      ],
      "metadata": {
        "colab": {
          "base_uri": "https://localhost:8080/"
        },
        "id": "osiOmlZeDFJu",
        "outputId": "904f0a48-1f06-4145-90e2-a9377465ea5a"
      },
      "execution_count": 40,
      "outputs": [
        {
          "output_type": "execute_result",
          "data": {
            "text/plain": [
              "4.0"
            ]
          },
          "metadata": {},
          "execution_count": 40
        }
      ]
    }
  ]
}